{
 "cells": [
  {
   "cell_type": "code",
   "execution_count": null,
   "id": "3aa8d2a8-2793-49fa-951d-3528b7a78d1d",
   "metadata": {
    "tags": []
   },
   "outputs": [],
   "source": [
    "#Finds all the gi numbers to be uploaded on UniProt mapping and put them in a text file\n",
    "import re\n",
    "\n",
    "with open(\"/path\", \"r\") as f:\n",
    "    sbml_data = f.read()\n",
    "\n",
    "gi_numbers = re.findall(r\"http://identifiers.org/ncbigi/(\\d+)\", sbml_data)\n",
    "\n",
    "with open(\"gi_numbers.txt\", \"w\") as f:\n",
    "    for gi_number in gi_numbers:\n",
    "        f.write(gi_number + \"\\n\")\n",
    "print (len(gi_numbers))"
   ]
  },
  {
   "cell_type": "code",
   "execution_count": null,
   "id": "896f7867-4646-450f-9a44-1204211d2e6b",
   "metadata": {
    "tags": []
   },
   "outputs": [],
   "source": [
    "#unique sequences\n",
    "def read_fasta_file(file_path):\n",
    "    sequences = {}\n",
    "    with open(file_path, 'r') as f:\n",
    "        header = None\n",
    "        sequence = ''\n",
    "        for line in f:\n",
    "            line = line.strip()\n",
    "            if line.startswith('>'):\n",
    "                if sequence:\n",
    "                    sequences[header] = sequence\n",
    "                header = line.strip()[1:] \n",
    "                sequence = ''\n",
    "            else:\n",
    "                sequence += line.strip()\n",
    "        if sequence: \n",
    "            sequences[header] = sequence\n",
    "    return sequences\n",
    "\n",
    "\n",
    "def find_unique_sequences(sequences):\n",
    "    unique_seqs = {}\n",
    "    for sequence in set(sequences.values()):\n",
    "        headers = [header for header, seq in sequences.items() if seq == sequence]\n",
    "        if len(headers) == 1:\n",
    "            unique_seqs[headers[0]] = sequence\n",
    "        else:\n",
    "            ljungdahlii_headers = [h for h in headers if 'clostridium ljungdahlii' in h.lower()]\n",
    "            if ljungdahlii_headers:\n",
    "                unique_seqs[ljungdahlii_headers[0]] = sequence\n",
    "            else:\n",
    "                ljungdahlii_replicates = [h for h in headers if 'OS=Clostridium ljungdahlii' in h]\n",
    "                if ljungdahlii_replicates:\n",
    "                    unique_seqs[ljungdahlii_replicates[0]] = sequence\n",
    "                else:\n",
    "                    print(f\"Multiple sequences found for:\\n{sequence}\\n\")\n",
    "                    for i, h in enumerate(headers):\n",
    "                        print(f\"{i+1}. {h}\")\n",
    "                    while True:\n",
    "                        choice = input(\"Which sequence do you want to keep? (enter the number): \")\n",
    "                        if choice.isdigit() and 1 <= int(choice) <= len(headers):\n",
    "                            unique_seqs[headers[int(choice)-1]] = sequence\n",
    "                            break\n",
    "                        else:\n",
    "                            print(\"Invalid choice. Please enter a valid number.\")\n",
    "    return unique_seqs\n",
    "\n",
    "\n",
    "def save_sequences_to_file(sequences, file_path):\n",
    "    with open(file_path, 'w') as f:\n",
    "        for header, sequence in sequences.items():\n",
    "            f.write('>' + header + '\\n')\n",
    "            f.write(sequence + '\\n')\n",
    "\n",
    "\n",
    "\n",
    "fasta_file = '/path'\n",
    "sequences = read_fasta_file(fasta_file)\n",
    "unique_seqs = find_unique_sequences(sequences)\n",
    "output_file = 'unique_sequences.fasta'\n",
    "save_sequences_to_file(unique_seqs, output_file)"
   ]
  },
  {
   "cell_type": "code",
   "execution_count": null,
   "id": "614d4494-32e2-48d1-ba25-eb592b677387",
   "metadata": {
    "jupyter": {
     "outputs_hidden": true
    },
    "tags": []
   },
   "outputs": [],
   "source": [
    "#create updated model with addition of uniprot id \n",
    "\n",
    "import json\n",
    "import libsbml\n",
    "\n",
    "with open('/path', 'r') as f:\n",
    "    mapping_data = json.load(f)\n",
    "\n",
    "sbml_doc = libsbml.readSBML('/path')\n",
    "model = sbml_doc.getModel()\n",
    "fbc_plugin = model.getPlugin('fbc')\n",
    "\n",
    "for gp in fbc_plugin.getListOfGeneProducts():\n",
    "    gi = None\n",
    "    num_children = gp.getAnnotation().getNumChildren()\n",
    "    for i in range(num_children):\n",
    "        child = gp.getAnnotation().getChild(i)\n",
    "        if child.getName() == 'RDF':\n",
    "            num_rdf_children = child.getNumChildren()\n",
    "            for j in range(num_rdf_children):\n",
    "                rdf_child = child.getChild(j)\n",
    "                if rdf_child.getName() == 'Description':\n",
    "                    bqbiol_is_child = rdf_child.getChild('is')\n",
    "                    if bqbiol_is_child is not None:\n",
    "                        bag_child = bqbiol_is_child.getChild('Bag')\n",
    "                        if bag_child is not None:\n",
    "                            for k in range(bag_child.getNumChildren()):\n",
    "                                li_child = bag_child.getChild(k)\n",
    "                                if li_child.getName() == 'li':\n",
    "                                    resource = li_child.getAttributes().getValue('resource')\n",
    "                                    if 'ncbigi' in resource:\n",
    "                                        gi = resource.split('/')[-1]\n",
    "                                        if gi:\n",
    "                                            break\n",
    "    if gi:\n",
    "        uniprot_id = None\n",
    "        for mapping in mapping_data['results']:\n",
    "            if mapping['to'] == gi:\n",
    "                uniprot_id = mapping['from']\n",
    "                break\n",
    "                \n",
    "        if uniprot_id:\n",
    "            rdf_child = None\n",
    "            for child_index in range(gp.getAnnotation().getNumChildren()):\n",
    "                child = gp.getAnnotation().getChild(child_index)\n",
    "                for j in range(child.getNumChildren()):\n",
    "                    rdf_child = child.getChild(j)\n",
    "                    if rdf_child.getName() == 'Description':\n",
    "                        bqbiol_is_child = rdf_child.getChild('is')\n",
    "                        if bqbiol_is_child is not None:\n",
    "                            bag_child = bqbiol_is_child.getChild('Bag')\n",
    "                            if bag_child is not None:\n",
    "                                li_child = libsbml.XMLNode(libsbml.XMLTriple(\"li\", \"\", \"rdf\"), libsbml.XMLAttributes())\n",
    "                                li_child.getAttributes().add(libsbml.XMLTriple(\"resource\", \"\", \"rdf\"), \"http://identifiers.org/uniprot/{}\".format(uniprot_id))\n",
    "                                bag_child.addChild(li_child)\n",
    "                                break\n",
    "\n",
    "libsbml.writeSBMLToFile(sbml_doc, 'updated_iHN637.xml')\n",
    "\n",
    "\n",
    "                                "
   ]
  },
  {
   "cell_type": "code",
   "execution_count": null,
   "id": "1928f244-7cce-4d8f-ae35-38f8c7bd8071",
   "metadata": {
    "jupyter": {
     "outputs_hidden": true
    },
    "tags": []
   },
   "outputs": [],
   "source": [
    "# Add the EC number to the reaction annotation\n",
    "import libsbml\n",
    "import pandas as pd\n",
    "\n",
    "\n",
    "df = pd.read_excel('/path to file of manual curation', sheet_name='Foglio2')\n",
    "\n",
    "\n",
    "document = libsbml.readSBML('updated_iHN637.xml')\n",
    "model = document.getModel()\n",
    "\n",
    "\n",
    "fbc_plugin = model.getPlugin(\"fbc\")\n",
    "\n",
    "\n",
    "for index, row in df.iterrows():\n",
    "    \n",
    "    bigg_id = row['BIGG ID']\n",
    "    ec_number = row['EC number']\n",
    "    bigg_id = \"R_\" + bigg_id\n",
    "    \n",
    "\n",
    "    fbc_obj = model.getReaction(bigg_id)\n",
    "    if fbc_obj is not None:\n",
    "        rdf_child = None\n",
    "        for child_index in range(fbc_obj.getAnnotation().getNumChildren()):\n",
    "            child = fbc_obj.getAnnotation().getChild(child_index)\n",
    "            for j in range(child.getNumChildren()):\n",
    "                rdf_child = child.getChild(j)\n",
    "                if rdf_child.getName() == 'Description':\n",
    "                    bqbiol_is_child = rdf_child.getChild('is')\n",
    "                    if bqbiol_is_child is not None:\n",
    "                        bag_child = bqbiol_is_child.getChild('Bag')\n",
    "                        if bag_child is not None:\n",
    "                            print(f\"Bag content before update: {bag_child.toXMLString()}\")\n",
    "                            li_child = libsbml.XMLNode(libsbml.XMLTriple(\"li\", \"\", \"rdf\"), libsbml.XMLAttributes())\n",
    "                            li_child.getAttributes().add(libsbml.XMLTriple(\"resource\", \"\", \"rdf\"), \"http://identifiers.org/ec-code/{}\".format(ec_number))\n",
    "                            bag_child.addChild(li_child)\n",
    "                            print(f\"Bag content after update: {bag_child.toXMLString()}\")\n",
    "                            break\n",
    "\n",
    "\n",
    "output_file = \"updated_iHN637_EC.xml\"\n",
    "libsbml.writeSBML(document, output_file)\n",
    "print(\"Updated SBML file saved as\", output_file)"
   ]
  },
  {
   "cell_type": "code",
   "execution_count": null,
   "id": "1cf2cff3-f581-4223-8bba-77e211b45933",
   "metadata": {},
   "outputs": [],
   "source": [
    "import json\n",
    "import libsbml\n",
    "\n",
    "sbml_file = \"updated_iHN637_with_EC.xml\"\n",
    "output_file = \"name_to_uniprot.json\"\n",
    "\n",
    "document = libsbml.readSBMLFromFile(sbml_file)\n",
    "model = document.getModel()\n",
    "fbc_plugin = model.getPlugin(\"fbc\")\n",
    "\n",
    "\n",
    "name_to_id = {}\n",
    "\n",
    "\n",
    "for gp in fbc_plugin.getListOfGeneProducts():\n",
    "    name = gp.getName()\n",
    "    uniprot_id = None\n",
    "    num_children = gp.getAnnotation().getNumChildren()\n",
    "    for i in range(num_children):\n",
    "        child = gp.getAnnotation().getChild(i)\n",
    "        if child.getName() == 'RDF':\n",
    "            num_rdf_children = child.getNumChildren()\n",
    "            for j in range(num_rdf_children):\n",
    "                rdf_child = child.getChild(j)\n",
    "                if rdf_child.getName() == 'Description':\n",
    "                    bqbiol_is_child = rdf_child.getChild('is')\n",
    "                    if bqbiol_is_child is not None:\n",
    "                        bag_child = bqbiol_is_child.getChild('Bag')\n",
    "                        if bag_child is not None:\n",
    "                            for k in range(bag_child.getNumChildren()):\n",
    "                                li_child = bag_child.getChild(k)\n",
    "                                if li_child.getName() == 'li':\n",
    "                                    resource = li_child.getAttributes().getValue('resource')\n",
    "                                    if 'uniprot' in resource:\n",
    "                                        uniprot_id = resource.split('/')[-1]\n",
    "                                        if uniprot_id:\n",
    "                                            break\n",
    "        if uniprot_id:\n",
    "            name_to_id[name] = uniprot_id\n",
    "\n",
    "\n",
    "with open(output_file, \"w\") as f:\n",
    "    json.dump(name_to_id, f, indent=2)\n"
   ]
  },
  {
   "cell_type": "code",
   "execution_count": null,
   "id": "51b4c7c6-05db-4bfa-afc9-793a3dea0a48",
   "metadata": {},
   "outputs": [],
   "source": [
    "import json\n",
    "\n",
    "# Load the JSON files\n",
    "with open('name_to_uniprot.json', 'r') as f1, \n",
    "     open('protein_mw.json', 'r') as f2:\n",
    "    name_to_uniprot = json.load(f1)\n",
    "    uniprot_to_mw = json.load(f2)\n",
    "\n",
    "    # Create a new dictionary with name:mw pairs\n",
    "name_to_mw = {}\n",
    "for name, uniprot in name_to_uniprot.items():\n",
    "    if uniprot in uniprot_to_mw:\n",
    "        name_to_mw[name] = uniprot_to_mw[uniprot]\n",
    "\n",
    "# Save the new dictionary as JSON\n",
    "with open('name_to_mw.json', 'w') as f:\n",
    "    json.dump(name_to_mw, f, indent=None)"
   ]
  },
  {
   "cell_type": "code",
   "execution_count": null,
   "id": "61e5d674-3504-4c6b-8775-b58d1549fc6e",
   "metadata": {},
   "outputs": [],
   "source": [
    "import json\n",
    "\n",
    "# Load your original JSON file\n",
    "with open('name_to_mw.json', 'r') as f:\n",
    "    original_data = json.load(f)\n",
    "\n",
    "# Write formatted JSON to a new file\n",
    "with open('clj_protein_id_mass_mapping', 'w') as f:\n",
    "    json.dump(original_data, f, indent=None, separators=(\",\\n\", \": \"))"
   ]
  },
  {
   "cell_type": "code",
   "execution_count": null,
   "id": "55936088-bd12-4e1b-aa58-a82622075b2f",
   "metadata": {
    "tags": []
   },
   "outputs": [],
   "source": [
    "import cobra"
   ]
  },
  {
   "cell_type": "code",
   "execution_count": null,
   "id": "96f09d5b-9917-4c25-88ec-3e90ca112eed",
   "metadata": {
    "tags": []
   },
   "outputs": [],
   "source": [
    "from autopacmen.submodules.parse_bigg_metabolites_file import parse_bigg_metabolites_file\n",
    "from autopacmen.submodules.create_combined_kcat_database import create_combined_kcat_database\n",
    "from autopacmen.submodules.create_smoment_model_reaction_wise import create_smoment_model_reaction_wise_with_sbml\n",
    "from autopacmen.submodules.get_initial_spreadsheets import get_initial_spreadsheets_with_sbml\n",
    "from autopacmen.submodules.get_protein_mass_mapping import get_protein_mass_mapping_with_sbml\n",
    "from autopacmen.submodules.get_reactions_kcat_mapping import get_reactions_kcat_mapping\n",
    "from autopacmen.submodules.parse_bigg_metabolites_file import parse_bigg_metabolites_file\n",
    "from autopacmen.submodules.parse_brenda_textfile import parse_brenda_textfile\n",
    "from autopacmen.submodules.parse_brenda_json_for_model import parse_brenda_json_for_model\n",
    "from autopacmen.submodules.parse_sabio_rk_for_model import parse_sabio_rk_for_model_with_sbml\n",
    "from autopacmen.submodules.create_gecko_model_reaction_wise import create_gecko_model_reaction_wise_with_sbml"
   ]
  },
  {
   "cell_type": "code",
   "execution_count": null,
   "id": "50317196-dd6d-4a41-80ab-894eab57bc0a",
   "metadata": {
    "tags": []
   },
   "outputs": [],
   "source": [
    "bigg_metabolites_file_path = \"\"\n",
    "json_output_folder = \"/\"\n",
    "parse_bigg_metabolites_file(bigg_metabolites_file_path, json_output_folder)"
   ]
  },
  {
   "cell_type": "code",
   "execution_count": null,
   "id": "89e2635e-70fa-48ca-8de8-9d2a0987e739",
   "metadata": {
    "jupyter": {
     "outputs_hidden": true
    },
    "tags": []
   },
   "outputs": [],
   "source": [
    "brenda_textfile_path = \"\"\n",
    "bigg_metabolites_json_folder = \"\"\n",
    "json_output_path = \"\"\n",
    "parse_brenda_textfile(brenda_textfile_path,\n",
    "                      bigg_metabolites_json_folder, json_output_path)"
   ]
  },
  {
   "cell_type": "code",
   "execution_count": null,
   "id": "9bc04f43-2cca-4be4-8912-81c5ff82686e",
   "metadata": {
    "jupyter": {
     "outputs_hidden": true
    },
    "tags": []
   },
   "outputs": [],
   "source": [
    "sbml_path = \"\"\n",
    "brenda_json_path = \"\"\n",
    "output_json_path = \"\"\n",
    "parse_brenda_json_for_model(sbml_path, brenda_json_path, output_json_path)"
   ]
  },
  {
   "cell_type": "code",
   "execution_count": null,
   "id": "a3f1e47a-9acc-4254-baf3-13180e1aa437",
   "metadata": {
    "jupyter": {
     "outputs_hidden": true
    },
    "tags": []
   },
   "outputs": [],
   "source": [
    "sbml_path = \"\"\n",
    "json_output_path = \"\"\n",
    "bigg_id_name_mapping_path: str = \"\"\n",
    "parse_sabio_rk_for_model_with_sbml(\n",
    "    sbml_path, json_output_path, bigg_id_name_mapping_path)"
   ]
  },
  {
   "cell_type": "code",
   "execution_count": null,
   "id": "21e6a96a-90d5-48b1-a38f-f6600ec46383",
   "metadata": {
    "tags": []
   },
   "outputs": [],
   "source": [
    "sabio_rk_kcat_database_path = \"\"\n",
    "brenda_kcat_database_path = \"\"\n",
    "output_path = \"\"\n",
    "create_combined_kcat_database(\n",
    "    sabio_rk_kcat_database_path, brenda_kcat_database_path, output_path)"
   ]
  },
  {
   "cell_type": "code",
   "execution_count": null,
   "id": "0dccbd0f-6fea-42b8-bcc9-cfdfb1876e1c",
   "metadata": {
    "jupyter": {
     "outputs_hidden": true
    },
    "tags": []
   },
   "outputs": [],
   "source": [
    "input_sbml = \"\"\n",
    "project_folder = \"\"\n",
    "project_name = \"clj\"\n",
    "get_initial_spreadsheets_with_sbml(input_sbml, project_folder, project_name)"
   ]
  },
  {
   "cell_type": "code",
   "execution_count": null,
   "id": "72e032a0-af8c-4fdd-8b65-d9b30efcc744",
   "metadata": {
    "jupyter": {
     "outputs_hidden": true
    },
    "tags": []
   },
   "outputs": [],
   "source": [
    "sbml_path = \"\"\n",
    "project_folder = \"\"\n",
    "project_name = \"clj\"\n",
    "organism = \"Clostridium ljungdahlii\"\n",
    "kcat_database_path = \"/\"\n",
    "protein_kcat_database_path = \"/\"\n",
    "get_reactions_kcat_mapping(sbml\n",
    "                           organism, kcat_database_path, protein_kcat_database_path)\n"
   ]
  },
  {
   "cell_type": "code",
   "execution_count": null,
   "id": "08628817-3664-4563-a187-0675ca6f2a0d",
   "metadata": {
    "tags": []
   },
   "outputs": [],
   "source": [
    "input_sbml = \"\"\n",
    "output_sbml = \"\"\n",
    "project_folder = \"\"\n",
    "project_name = \"clj\"\n",
    "excluded_reactions = [\"\"]\n",
    "create_smoment_model_reaction_wise_with_sbml(\n",
    "    input_sbml, output_sbml, project_folder, project_name, excluded_reactions)"
   ]
  },
  {
   "cell_type": "code",
   "execution_count": null,
   "id": "632ee020-4d8f-4752-92bc-c032cd4ec511",
   "metadata": {
    "tags": []
   },
   "outputs": [],
   "source": [
    "model_original = cobra.io.read_sbml_model(\n",
    "    \"\")\n",
    "model_smoment = cobra.io.read_sbml_model(\n",
    "    \"\")\n",
    "\n",
    "print(\"Original model:\")\n",
    "print(f\"Number of reactions is {len(model_original.reactions)}\")\n",
    "print(f\"Number of metabolites is {len(model_original.metabolites)}\")\n",
    "\n",
    "print(\"sMOMENT model:\")\n",
    "print(f\"Number of reactions is {len(model_smoment.reactions)}\")\n",
    "print(f\"Number of metabolites is {len(model_smoment.metabolites)}\")\n"
   ]
  },
  {
   "cell_type": "code",
   "execution_count": null,
   "id": "9a9c16c0-b344-48ad-af3f-e9485e514851",
   "metadata": {},
   "outputs": [],
   "source": []
  }
 ],
 "metadata": {
  "kernelspec": {
   "display_name": "Python 3 (ipykernel)",
   "language": "python",
   "name": "python3"
  },
  "language_info": {
   "codemirror_mode": {
    "name": "ipython",
    "version": 3
   },
   "file_extension": ".py",
   "mimetype": "text/x-python",
   "name": "python",
   "nbconvert_exporter": "python",
   "pygments_lexer": "ipython3",
   "version": "3.9.7"
  }
 },
 "nbformat": 4,
 "nbformat_minor": 5
}
